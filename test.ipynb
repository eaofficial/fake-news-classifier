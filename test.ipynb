{
 "cells": [
  {
   "cell_type": "code",
   "execution_count": 117,
   "metadata": {},
   "outputs": [],
   "source": [
    "import warnings\n",
    "warnings.filterwarnings('ignore')\n",
    "from tensorflow.keras.models import load_model\n",
    "import nltk\n",
    "from tensorflow.keras.preprocessing.sequence import pad_sequences\n",
    "import re\n",
    "import pandas as pd\n",
    "import numpy as np\n",
    "import pickle\n",
    "import os"
   ]
  },
  {
   "cell_type": "code",
   "execution_count": 130,
   "metadata": {},
   "outputs": [],
   "source": [
    "#nltk.download('stopwords')\n",
    "#nltk.download('punkt')"
   ]
  },
  {
   "cell_type": "code",
   "execution_count": null,
   "metadata": {},
   "outputs": [],
   "source": [
    "fake = pd.read_csv(\"data/Fake.csv\")\n",
    "real = pd.read_csv(\"data/True.csv\")"
   ]
  },
  {
   "cell_type": "code",
   "execution_count": 156,
   "metadata": {},
   "outputs": [],
   "source": [
    "txt = real['title'][10] + \" \" + real['text'][10] "
   ]
  },
  {
   "cell_type": "code",
   "execution_count": 122,
   "metadata": {},
   "outputs": [],
   "source": [
    "maxlen = 700"
   ]
  },
  {
   "cell_type": "code",
   "execution_count": 157,
   "metadata": {},
   "outputs": [
    {
     "data": {
      "text/plain": [
       "'Jones certified U.S. Senate winner despite Moore challenge (Reuters) - Alabama officials on Thursday certified Democrat Doug Jones the winner of the state’s U.S. Senate race, after a state judge denied a challenge by Republican Roy Moore, whose campaign was derailed by accusations of sexual misconduct with teenage girls. Jones won the vacant seat by about 22,000 votes, or 1.6 percentage points, election officials said. That made him the first Democrat in a quarter of a century to win a Senate seat in Alabama.  The seat was previously held by Republican Jeff Sessions, who was tapped by U.S. President Donald Trump as attorney general. A state canvassing board composed of Alabama Secretary of State John Merrill, Governor Kay Ivey and Attorney General Steve Marshall certified the election results. Seating Jones will narrow the Republican majority in the Senate to 51 of 100 seats. In a statement, Jones called his victory “a new chapter” and pledged to work with both parties. Moore declined to concede defeat even after Trump urged him to do so. He stood by claims of a fraudulent election in a statement released after the certification and said he had no regrets, media outlets reported. An Alabama judge denied Moore’s request to block certification of the results of the Dec. 12 election in a decision shortly before the canvassing board met. Moore’s challenge alleged there had been potential voter fraud that denied him a chance of victory. His filing on Wednesday in the Montgomery Circuit Court sought to halt the meeting scheduled to ratify Jones’ win on Thursday. Moore could ask for a recount, in addition to possible other court challenges, Merrill said in an interview with Fox News Channel. He would have to complete paperwork “within a timed period” and show he has the money for a challenge, Merrill said. “We’ve not been notified yet of their intention to do that,” Merrill said. Regarding the claim of voter fraud, Merrill told CNN that more than 100 cases had been reported. “We’ve adjudicated more than 60 of those. We will continue to do that,” he said.  Republican lawmakers in Washington had distanced themselves from Moore and called for him to drop out of the race after several women accused him of sexual assault or misconduct dating back to when they were teenagers and he was in his early 30s.  Moore has denied wrongdoing and Reuters has not been able to independently verify the allegations. '"
      ]
     },
     "execution_count": 157,
     "metadata": {},
     "output_type": "execute_result"
    }
   ],
   "source": [
    "txt"
   ]
  },
  {
   "cell_type": "code",
   "execution_count": 144,
   "metadata": {},
   "outputs": [],
   "source": [
    "def print_s(obj, verbose=False):\n",
    "    if verbose:\n",
    "        if obj=='model':\n",
    "            print(\"Loading LSTM W2V Model...\")\n",
    "        elif obj == 'enc':\n",
    "            print(\"Loading Encoder...\")\n",
    "        elif obj == 'pre':\n",
    "            print(\"Preprocessing the news...\")\n",
    "        elif obj == 'trans':\n",
    "            print(\"Transforming the news...\")\n",
    "        elif obj == 'pred':\n",
    "            print(\"Predicting Real of Fake\")\n",
    "    else:\n",
    "        return\n"
   ]
  },
  {
   "cell_type": "code",
   "execution_count": 143,
   "metadata": {},
   "outputs": [],
   "source": [
    "def print_f(obj, verbose=False):\n",
    "    if verbose:\n",
    "        if obj=='model':\n",
    "            print(\"LSTM W2V Model loading complete :)\")\n",
    "        elif obj == 'enc':\n",
    "            print(\"Encoder loading complete :)\")\n",
    "        elif obj == 'pre':\n",
    "            print(\"Preprocessing complete :)\")\n",
    "        elif obj == 'trans':\n",
    "            print(\"Transforming complete :)\")\n",
    "        #elif obj == 'pred':\n",
    "            #print(\"Predicting Real of Fake\")\n",
    "    else:\n",
    "        return"
   ]
  },
  {
   "cell_type": "code",
   "execution_count": 152,
   "metadata": {},
   "outputs": [],
   "source": [
    "def loadModels(model_path, encoder_path, verbose=False):\n",
    "    model_path = os.path.join(model_path, \"model_v1.h5\")\n",
    "    encoder_path = os.path.join(encoder_path, \"tokenizer.h5\")\n",
    "    print_s('model', verbose)\n",
    "    model = load_model(model_path)\n",
    "    print_f('model', verbose)\n",
    "    print_s('enc', verbose)\n",
    "    with open(encoder_path, 'rb') as pickle_file:\n",
    "        encoder = pickle.load(pickle_file)\n",
    "        #print(type(model),  type(encoder))\n",
    "    print_f('enc', verbose)\n",
    "    return model, encoder"
   ]
  },
  {
   "cell_type": "code",
   "execution_count": 145,
   "metadata": {},
   "outputs": [],
   "source": [
    "def preprocess(par, verbose=False):\n",
    "    print_s('pre', verbose)\n",
    "    X = []\n",
    "    stop_words = set(nltk.corpus.stopwords.words(\"english\"))\n",
    "    tokenizer = nltk.tokenize.RegexpTokenizer(r'\\w+')\n",
    "    tmp = []\n",
    "    sentences = nltk.sent_tokenize(par)\n",
    "    for sent in sentences:\n",
    "        sent = sent.lower()\n",
    "        tokens = tokenizer.tokenize(sent)\n",
    "        filtered_words = [w.strip() for w in tokens if w not in stop_words and len(w) > 1]\n",
    "        tmp.extend(filtered_words)\n",
    "        #X.append(tmp)\n",
    "    print_f('pre', verbose)\n",
    "    return tmp"
   ]
  },
  {
   "cell_type": "code",
   "execution_count": 146,
   "metadata": {},
   "outputs": [],
   "source": [
    "def transform(X, maxlen, verbose=False):\n",
    "    print_s('trans', verbose)\n",
    "    #X = preprocess(txt)\n",
    "    tmp = np.array(X)\n",
    "    tmp = tmp.reshape(1, tmp.shape[0])\n",
    "    X = encoding.texts_to_sequences(tmp.tolist())\n",
    "    print_f('trans', verbose)\n",
    "    return pad_sequences(X, maxlen)\n"
   ]
  },
  {
   "cell_type": "code",
   "execution_count": 147,
   "metadata": {},
   "outputs": [],
   "source": [
    "def predict_news(txt, maxlen, clf_model=model, txt_encoder=encoder, verbose=False):\n",
    "    X = preprocess(txt, verbose)\n",
    "    X = transform(X, maxlen, verbose)\n",
    "    print_s(verbose, 'pred')\n",
    "    y = clf_model.predict(X)\n",
    "    if y>0.5:\n",
    "        return \"Real\"\n",
    "    else:\n",
    "        return \"Fake\""
   ]
  },
  {
   "cell_type": "code",
   "execution_count": 154,
   "metadata": {},
   "outputs": [],
   "source": [
    "model, encoder = loadModels('models', 'models')"
   ]
  },
  {
   "cell_type": "code",
   "execution_count": null,
   "metadata": {},
   "outputs": [],
   "source": []
  },
  {
   "cell_type": "code",
   "execution_count": 155,
   "metadata": {},
   "outputs": [
    {
     "data": {
      "text/plain": [
       "'Real'"
      ]
     },
     "execution_count": 155,
     "metadata": {},
     "output_type": "execute_result"
    }
   ],
   "source": [
    "predict_news(txt, maxlen, model, encoder)"
   ]
  },
  {
   "cell_type": "code",
   "execution_count": null,
   "metadata": {},
   "outputs": [],
   "source": []
  }
 ],
 "metadata": {
  "kernelspec": {
   "display_name": "Python 3",
   "language": "python",
   "name": "python3"
  },
  "language_info": {
   "codemirror_mode": {
    "name": "ipython",
    "version": 3
   },
   "file_extension": ".py",
   "mimetype": "text/x-python",
   "name": "python",
   "nbconvert_exporter": "python",
   "pygments_lexer": "ipython3",
   "version": "3.7.6"
  }
 },
 "nbformat": 4,
 "nbformat_minor": 4
}
